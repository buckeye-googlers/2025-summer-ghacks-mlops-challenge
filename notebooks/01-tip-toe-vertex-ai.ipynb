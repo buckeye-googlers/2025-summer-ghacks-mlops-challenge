{
 "cells": [
  {
   "cell_type": "markdown",
   "id": "2e62c77e-ed37-4671-b572-1123833f8b66",
   "metadata": {},
   "source": [
    "## Getting things ready\n",
    "\n",
    "By default this notebook will be running from the `notebooks` directory, let's install the root of this repository as a package to get the dependencies. Make sure that you're using a kernel that's based on a new virtual environment to prevent any dependency conflicts."
   ]
  },
  {
   "cell_type": "code",
   "execution_count": 1,
   "id": "ce1f1566-323b-4dc1-bef1-a71058534b7e",
   "metadata": {
    "tags": []
   },
   "outputs": [
    {
     "name": "stdout",
     "output_type": "stream",
     "text": [
      "Obtaining file:///home/jupyter/gcp-mlops-demo-main\n",
      "  Installing build dependencies ... \u001b[?25ldone\n",
      "\u001b[?25h  Checking if build backend supports build_editable ... \u001b[?25ldone\n",
      "\u001b[?25h  Getting requirements to build editable ... \u001b[?25ldone\n",
      "\u001b[?25h  Preparing editable metadata (pyproject.toml) ... \u001b[?25ldone\n",
      "\u001b[?25hRequirement already satisfied: scikit-learn in /opt/conda/lib/python3.10/site-packages (from gcp-mlops-demo==0.8.0.dev0) (1.4.0)\n",
      "Requirement already satisfied: pandas in /opt/conda/lib/python3.10/site-packages (from gcp-mlops-demo==0.8.0.dev0) (2.2.0)\n",
      "Requirement already satisfied: kfp in /opt/conda/lib/python3.10/site-packages (from gcp-mlops-demo==0.8.0.dev0) (2.6.0)\n",
      "Requirement already satisfied: google-cloud-aiplatform in /opt/conda/lib/python3.10/site-packages (from gcp-mlops-demo==0.8.0.dev0) (1.40.0)\n",
      "Requirement already satisfied: google-cloud-pipeline-components in /opt/conda/lib/python3.10/site-packages (from gcp-mlops-demo==0.8.0.dev0) (2.9.0)\n",
      "Requirement already satisfied: matplotlib in /opt/conda/lib/python3.10/site-packages (from gcp-mlops-demo==0.8.0.dev0) (3.8.2)\n",
      "Requirement already satisfied: seaborn in /opt/conda/lib/python3.10/site-packages (from gcp-mlops-demo==0.8.0.dev0) (0.13.2)\n",
      "Requirement already satisfied: pandas-gbq in /opt/conda/lib/python3.10/site-packages (from gcp-mlops-demo==0.8.0.dev0) (0.20.0)\n",
      "Requirement already satisfied: gcsfs in /opt/conda/lib/python3.10/site-packages (from gcp-mlops-demo==0.8.0.dev0) (2023.12.2.post1)\n",
      "Requirement already satisfied: pyarrow in /opt/conda/lib/python3.10/site-packages (from gcp-mlops-demo==0.8.0.dev0) (15.0.0)\n",
      "Requirement already satisfied: build in /opt/conda/lib/python3.10/site-packages (from gcp-mlops-demo==0.8.0.dev0) (1.0.3)\n",
      "Requirement already satisfied: flake8-pyproject in /opt/conda/lib/python3.10/site-packages (from gcp-mlops-demo==0.8.0.dev0) (1.2.3)\n",
      "Requirement already satisfied: pytest in /opt/conda/lib/python3.10/site-packages (from gcp-mlops-demo==0.8.0.dev0) (8.0.0)\n",
      "Requirement already satisfied: coverage in /opt/conda/lib/python3.10/site-packages (from gcp-mlops-demo==0.8.0.dev0) (7.4.1)\n",
      "Requirement already satisfied: packaging>=19.0 in /opt/conda/lib/python3.10/site-packages (from build->gcp-mlops-demo==0.8.0.dev0) (23.2)\n",
      "Requirement already satisfied: pyproject_hooks in /opt/conda/lib/python3.10/site-packages (from build->gcp-mlops-demo==0.8.0.dev0) (1.0.0)\n",
      "Requirement already satisfied: tomli>=1.1.0 in /opt/conda/lib/python3.10/site-packages (from build->gcp-mlops-demo==0.8.0.dev0) (2.0.1)\n",
      "Requirement already satisfied: Flake8>=5 in /opt/conda/lib/python3.10/site-packages (from flake8-pyproject->gcp-mlops-demo==0.8.0.dev0) (7.0.0)\n",
      "Requirement already satisfied: aiohttp!=4.0.0a0,!=4.0.0a1 in /opt/conda/lib/python3.10/site-packages (from gcsfs->gcp-mlops-demo==0.8.0.dev0) (3.9.3)\n",
      "Requirement already satisfied: decorator>4.1.2 in /opt/conda/lib/python3.10/site-packages (from gcsfs->gcp-mlops-demo==0.8.0.dev0) (5.1.1)\n",
      "Requirement already satisfied: fsspec==2023.12.2 in /opt/conda/lib/python3.10/site-packages (from gcsfs->gcp-mlops-demo==0.8.0.dev0) (2023.12.2)\n",
      "Requirement already satisfied: google-auth>=1.2 in /opt/conda/lib/python3.10/site-packages (from gcsfs->gcp-mlops-demo==0.8.0.dev0) (2.27.0)\n",
      "Requirement already satisfied: google-auth-oauthlib in /opt/conda/lib/python3.10/site-packages (from gcsfs->gcp-mlops-demo==0.8.0.dev0) (1.2.0)\n",
      "Requirement already satisfied: google-cloud-storage in /opt/conda/lib/python3.10/site-packages (from gcsfs->gcp-mlops-demo==0.8.0.dev0) (2.14.0)\n",
      "Requirement already satisfied: requests in /opt/conda/lib/python3.10/site-packages (from gcsfs->gcp-mlops-demo==0.8.0.dev0) (2.31.0)\n",
      "Requirement already satisfied: google-api-core!=2.0.*,!=2.1.*,!=2.2.*,!=2.3.*,!=2.4.*,!=2.5.*,!=2.6.*,!=2.7.*,<3.0.0dev,>=1.32.0 in /opt/conda/lib/python3.10/site-packages (from google-api-core[grpc]!=2.0.*,!=2.1.*,!=2.2.*,!=2.3.*,!=2.4.*,!=2.5.*,!=2.6.*,!=2.7.*,<3.0.0dev,>=1.32.0->google-cloud-aiplatform->gcp-mlops-demo==0.8.0.dev0) (2.16.0)\n",
      "Requirement already satisfied: proto-plus<2.0.0dev,>=1.22.0 in /opt/conda/lib/python3.10/site-packages (from google-cloud-aiplatform->gcp-mlops-demo==0.8.0.dev0) (1.23.0)\n",
      "Requirement already satisfied: protobuf!=3.20.0,!=3.20.1,!=4.21.0,!=4.21.1,!=4.21.2,!=4.21.3,!=4.21.4,!=4.21.5,<5.0.0dev,>=3.19.5 in /opt/conda/lib/python3.10/site-packages (from google-cloud-aiplatform->gcp-mlops-demo==0.8.0.dev0) (4.25.2)\n",
      "Requirement already satisfied: google-cloud-bigquery<4.0.0dev,>=1.15.0 in /opt/conda/lib/python3.10/site-packages (from google-cloud-aiplatform->gcp-mlops-demo==0.8.0.dev0) (3.17.1)\n",
      "Requirement already satisfied: google-cloud-resource-manager<3.0.0dev,>=1.3.3 in /opt/conda/lib/python3.10/site-packages (from google-cloud-aiplatform->gcp-mlops-demo==0.8.0.dev0) (1.11.0)\n",
      "Requirement already satisfied: shapely<3.0.0dev in /opt/conda/lib/python3.10/site-packages (from google-cloud-aiplatform->gcp-mlops-demo==0.8.0.dev0) (2.0.2)\n",
      "Requirement already satisfied: Jinja2==3.1.2 in /opt/conda/lib/python3.10/site-packages (from google-cloud-pipeline-components->gcp-mlops-demo==0.8.0.dev0) (3.1.2)\n",
      "Requirement already satisfied: MarkupSafe>=2.0 in /opt/conda/lib/python3.10/site-packages (from Jinja2==3.1.2->google-cloud-pipeline-components->gcp-mlops-demo==0.8.0.dev0) (2.1.4)\n",
      "Requirement already satisfied: click<9,>=8.0.0 in /opt/conda/lib/python3.10/site-packages (from kfp->gcp-mlops-demo==0.8.0.dev0) (8.1.7)\n",
      "Requirement already satisfied: docstring-parser<1,>=0.7.3 in /opt/conda/lib/python3.10/site-packages (from kfp->gcp-mlops-demo==0.8.0.dev0) (0.15)\n",
      "Requirement already satisfied: kfp-pipeline-spec==0.3.0 in /opt/conda/lib/python3.10/site-packages (from kfp->gcp-mlops-demo==0.8.0.dev0) (0.3.0)\n",
      "Requirement already satisfied: kfp-server-api<2.1.0,>=2.0.0 in /opt/conda/lib/python3.10/site-packages (from kfp->gcp-mlops-demo==0.8.0.dev0) (2.0.5)\n",
      "Requirement already satisfied: kubernetes<27,>=8.0.0 in /opt/conda/lib/python3.10/site-packages (from kfp->gcp-mlops-demo==0.8.0.dev0) (26.1.0)\n",
      "Requirement already satisfied: PyYAML<7,>=5.3 in /opt/conda/lib/python3.10/site-packages (from kfp->gcp-mlops-demo==0.8.0.dev0) (6.0.1)\n",
      "Requirement already satisfied: requests-toolbelt<1,>=0.8.0 in /opt/conda/lib/python3.10/site-packages (from kfp->gcp-mlops-demo==0.8.0.dev0) (0.10.1)\n",
      "Requirement already satisfied: tabulate<1,>=0.8.6 in /opt/conda/lib/python3.10/site-packages (from kfp->gcp-mlops-demo==0.8.0.dev0) (0.9.0)\n",
      "Requirement already satisfied: urllib3<2.0.0 in /opt/conda/lib/python3.10/site-packages (from kfp->gcp-mlops-demo==0.8.0.dev0) (1.26.18)\n",
      "Requirement already satisfied: contourpy>=1.0.1 in /opt/conda/lib/python3.10/site-packages (from matplotlib->gcp-mlops-demo==0.8.0.dev0) (1.2.0)\n",
      "Requirement already satisfied: cycler>=0.10 in /opt/conda/lib/python3.10/site-packages (from matplotlib->gcp-mlops-demo==0.8.0.dev0) (0.12.1)\n",
      "Requirement already satisfied: fonttools>=4.22.0 in /opt/conda/lib/python3.10/site-packages (from matplotlib->gcp-mlops-demo==0.8.0.dev0) (4.47.2)\n",
      "Requirement already satisfied: kiwisolver>=1.3.1 in /opt/conda/lib/python3.10/site-packages (from matplotlib->gcp-mlops-demo==0.8.0.dev0) (1.4.5)\n",
      "Requirement already satisfied: numpy<2,>=1.21 in /opt/conda/lib/python3.10/site-packages (from matplotlib->gcp-mlops-demo==0.8.0.dev0) (1.26.3)\n",
      "Requirement already satisfied: pillow>=8 in /opt/conda/lib/python3.10/site-packages (from matplotlib->gcp-mlops-demo==0.8.0.dev0) (10.2.0)\n",
      "Requirement already satisfied: pyparsing>=2.3.1 in /opt/conda/lib/python3.10/site-packages (from matplotlib->gcp-mlops-demo==0.8.0.dev0) (3.1.1)\n",
      "Requirement already satisfied: python-dateutil>=2.7 in /opt/conda/lib/python3.10/site-packages (from matplotlib->gcp-mlops-demo==0.8.0.dev0) (2.8.2)\n",
      "Requirement already satisfied: pytz>=2020.1 in /opt/conda/lib/python3.10/site-packages (from pandas->gcp-mlops-demo==0.8.0.dev0) (2023.4)\n",
      "Requirement already satisfied: tzdata>=2022.7 in /opt/conda/lib/python3.10/site-packages (from pandas->gcp-mlops-demo==0.8.0.dev0) (2023.4)\n",
      "Requirement already satisfied: setuptools in /opt/conda/lib/python3.10/site-packages (from pandas-gbq->gcp-mlops-demo==0.8.0.dev0) (75.8.2)\n",
      "Requirement already satisfied: db-dtypes<2.0.0,>=1.0.4 in /opt/conda/lib/python3.10/site-packages (from pandas-gbq->gcp-mlops-demo==0.8.0.dev0) (1.2.0)\n",
      "Requirement already satisfied: pydata-google-auth>=1.5.0 in /opt/conda/lib/python3.10/site-packages (from pandas-gbq->gcp-mlops-demo==0.8.0.dev0) (1.8.2)\n",
      "Requirement already satisfied: google-cloud-bigquery-storage<3.0.0dev,>=2.16.2 in /opt/conda/lib/python3.10/site-packages (from pandas-gbq->gcp-mlops-demo==0.8.0.dev0) (2.24.0)\n",
      "Requirement already satisfied: iniconfig in /opt/conda/lib/python3.10/site-packages (from pytest->gcp-mlops-demo==0.8.0.dev0) (2.0.0)\n",
      "Requirement already satisfied: pluggy<2.0,>=1.3.0 in /opt/conda/lib/python3.10/site-packages (from pytest->gcp-mlops-demo==0.8.0.dev0) (1.4.0)\n",
      "Requirement already satisfied: exceptiongroup>=1.0.0rc8 in /opt/conda/lib/python3.10/site-packages (from pytest->gcp-mlops-demo==0.8.0.dev0) (1.2.0)\n",
      "Requirement already satisfied: scipy>=1.6.0 in /opt/conda/lib/python3.10/site-packages (from scikit-learn->gcp-mlops-demo==0.8.0.dev0) (1.12.0)\n",
      "Requirement already satisfied: joblib>=1.2.0 in /opt/conda/lib/python3.10/site-packages (from scikit-learn->gcp-mlops-demo==0.8.0.dev0) (1.3.2)\n",
      "Requirement already satisfied: threadpoolctl>=2.0.0 in /opt/conda/lib/python3.10/site-packages (from scikit-learn->gcp-mlops-demo==0.8.0.dev0) (3.2.0)\n",
      "Requirement already satisfied: aiosignal>=1.1.2 in /opt/conda/lib/python3.10/site-packages (from aiohttp!=4.0.0a0,!=4.0.0a1->gcsfs->gcp-mlops-demo==0.8.0.dev0) (1.3.1)\n",
      "Requirement already satisfied: attrs>=17.3.0 in /opt/conda/lib/python3.10/site-packages (from aiohttp!=4.0.0a0,!=4.0.0a1->gcsfs->gcp-mlops-demo==0.8.0.dev0) (23.2.0)\n",
      "Requirement already satisfied: frozenlist>=1.1.1 in /opt/conda/lib/python3.10/site-packages (from aiohttp!=4.0.0a0,!=4.0.0a1->gcsfs->gcp-mlops-demo==0.8.0.dev0) (1.4.1)\n",
      "Requirement already satisfied: multidict<7.0,>=4.5 in /opt/conda/lib/python3.10/site-packages (from aiohttp!=4.0.0a0,!=4.0.0a1->gcsfs->gcp-mlops-demo==0.8.0.dev0) (6.0.4)\n",
      "Requirement already satisfied: yarl<2.0,>=1.0 in /opt/conda/lib/python3.10/site-packages (from aiohttp!=4.0.0a0,!=4.0.0a1->gcsfs->gcp-mlops-demo==0.8.0.dev0) (1.9.4)\n",
      "Requirement already satisfied: async-timeout<5.0,>=4.0 in /opt/conda/lib/python3.10/site-packages (from aiohttp!=4.0.0a0,!=4.0.0a1->gcsfs->gcp-mlops-demo==0.8.0.dev0) (4.0.3)\n",
      "Requirement already satisfied: mccabe<0.8.0,>=0.7.0 in /opt/conda/lib/python3.10/site-packages (from Flake8>=5->flake8-pyproject->gcp-mlops-demo==0.8.0.dev0) (0.7.0)\n",
      "Requirement already satisfied: pycodestyle<2.12.0,>=2.11.0 in /opt/conda/lib/python3.10/site-packages (from Flake8>=5->flake8-pyproject->gcp-mlops-demo==0.8.0.dev0) (2.11.1)\n",
      "Requirement already satisfied: pyflakes<3.3.0,>=3.2.0 in /opt/conda/lib/python3.10/site-packages (from Flake8>=5->flake8-pyproject->gcp-mlops-demo==0.8.0.dev0) (3.2.0)\n",
      "Requirement already satisfied: googleapis-common-protos<2.0.dev0,>=1.56.2 in /opt/conda/lib/python3.10/site-packages (from google-api-core!=2.0.*,!=2.1.*,!=2.2.*,!=2.3.*,!=2.4.*,!=2.5.*,!=2.6.*,!=2.7.*,<3.0.0dev,>=1.32.0->google-api-core[grpc]!=2.0.*,!=2.1.*,!=2.2.*,!=2.3.*,!=2.4.*,!=2.5.*,!=2.6.*,!=2.7.*,<3.0.0dev,>=1.32.0->google-cloud-aiplatform->gcp-mlops-demo==0.8.0.dev0) (1.62.0)\n",
      "Requirement already satisfied: grpcio<2.0dev,>=1.33.2 in /opt/conda/lib/python3.10/site-packages (from google-api-core[grpc]!=2.0.*,!=2.1.*,!=2.2.*,!=2.3.*,!=2.4.*,!=2.5.*,!=2.6.*,!=2.7.*,<3.0.0dev,>=1.32.0->google-cloud-aiplatform->gcp-mlops-demo==0.8.0.dev0) (1.60.0)\n",
      "Requirement already satisfied: grpcio-status<2.0.dev0,>=1.33.2 in /opt/conda/lib/python3.10/site-packages (from google-api-core[grpc]!=2.0.*,!=2.1.*,!=2.2.*,!=2.3.*,!=2.4.*,!=2.5.*,!=2.6.*,!=2.7.*,<3.0.0dev,>=1.32.0->google-cloud-aiplatform->gcp-mlops-demo==0.8.0.dev0) (1.60.0)\n",
      "Requirement already satisfied: cachetools<6.0,>=2.0.0 in /opt/conda/lib/python3.10/site-packages (from google-auth>=1.2->gcsfs->gcp-mlops-demo==0.8.0.dev0) (5.3.2)\n",
      "Requirement already satisfied: pyasn1-modules>=0.2.1 in /opt/conda/lib/python3.10/site-packages (from google-auth>=1.2->gcsfs->gcp-mlops-demo==0.8.0.dev0) (0.3.0)\n",
      "Requirement already satisfied: rsa<5,>=3.1.4 in /opt/conda/lib/python3.10/site-packages (from google-auth>=1.2->gcsfs->gcp-mlops-demo==0.8.0.dev0) (4.9)\n",
      "Requirement already satisfied: requests-oauthlib>=0.7.0 in /opt/conda/lib/python3.10/site-packages (from google-auth-oauthlib->gcsfs->gcp-mlops-demo==0.8.0.dev0) (1.3.1)\n",
      "Requirement already satisfied: google-cloud-core<3.0.0dev,>=1.6.0 in /opt/conda/lib/python3.10/site-packages (from google-cloud-bigquery<4.0.0dev,>=1.15.0->google-cloud-aiplatform->gcp-mlops-demo==0.8.0.dev0) (2.4.1)\n",
      "Requirement already satisfied: google-resumable-media<3.0dev,>=0.6.0 in /opt/conda/lib/python3.10/site-packages (from google-cloud-bigquery<4.0.0dev,>=1.15.0->google-cloud-aiplatform->gcp-mlops-demo==0.8.0.dev0) (2.7.0)\n",
      "Requirement already satisfied: grpc-google-iam-v1<1.0.0dev,>=0.12.4 in /opt/conda/lib/python3.10/site-packages (from google-cloud-resource-manager<3.0.0dev,>=1.3.3->google-cloud-aiplatform->gcp-mlops-demo==0.8.0.dev0) (0.13.0)\n",
      "Requirement already satisfied: google-crc32c<2.0dev,>=1.0 in /opt/conda/lib/python3.10/site-packages (from google-cloud-storage->gcsfs->gcp-mlops-demo==0.8.0.dev0) (1.5.0)\n",
      "Requirement already satisfied: six>=1.10 in /opt/conda/lib/python3.10/site-packages (from kfp-server-api<2.1.0,>=2.0.0->kfp->gcp-mlops-demo==0.8.0.dev0) (1.16.0)\n",
      "Requirement already satisfied: certifi in /opt/conda/lib/python3.10/site-packages (from kfp-server-api<2.1.0,>=2.0.0->kfp->gcp-mlops-demo==0.8.0.dev0) (2023.11.17)\n",
      "Requirement already satisfied: websocket-client!=0.40.0,!=0.41.*,!=0.42.*,>=0.32.0 in /opt/conda/lib/python3.10/site-packages (from kubernetes<27,>=8.0.0->kfp->gcp-mlops-demo==0.8.0.dev0) (1.7.0)\n",
      "Requirement already satisfied: charset-normalizer<4,>=2 in /opt/conda/lib/python3.10/site-packages (from requests->gcsfs->gcp-mlops-demo==0.8.0.dev0) (3.3.2)\n",
      "Requirement already satisfied: idna<4,>=2.5 in /opt/conda/lib/python3.10/site-packages (from requests->gcsfs->gcp-mlops-demo==0.8.0.dev0) (3.6)\n",
      "Requirement already satisfied: pyasn1<0.6.0,>=0.4.6 in /opt/conda/lib/python3.10/site-packages (from pyasn1-modules>=0.2.1->google-auth>=1.2->gcsfs->gcp-mlops-demo==0.8.0.dev0) (0.5.1)\n",
      "Requirement already satisfied: oauthlib>=3.0.0 in /opt/conda/lib/python3.10/site-packages (from requests-oauthlib>=0.7.0->google-auth-oauthlib->gcsfs->gcp-mlops-demo==0.8.0.dev0) (3.2.2)\n",
      "Building wheels for collected packages: gcp-mlops-demo\n",
      "  Building editable for gcp-mlops-demo (pyproject.toml) ... \u001b[?25ldone\n",
      "\u001b[?25h  Created wheel for gcp-mlops-demo: filename=gcp_mlops_demo-0.8.0.dev0-0.editable-py3-none-any.whl size=4655 sha256=6c1941f1f245f42512e632ff4a10d2eec37d1ae6887401a3796b196fe74a0e03\n",
      "  Stored in directory: /var/tmp/pip-ephem-wheel-cache-eamux3i5/wheels/b6/14/e9/5adedc1fcdb2e46f7febf8ee233009b58bd5fbc960655b00db\n",
      "Successfully built gcp-mlops-demo\n",
      "Installing collected packages: gcp-mlops-demo\n",
      "  Attempting uninstall: gcp-mlops-demo\n",
      "    Found existing installation: gcp-mlops-demo 0.8.0.dev0\n",
      "    Uninstalling gcp-mlops-demo-0.8.0.dev0:\n",
      "      Successfully uninstalled gcp-mlops-demo-0.8.0.dev0\n",
      "Successfully installed gcp-mlops-demo-0.8.0.dev0\n"
     ]
    }
   ],
   "source": [
    "import sys\n",
    "\n",
    "!{sys.executable} -m pip install -c ../constraints.txt -e ..[dev,gcp,interactive]"
   ]
  },
  {
   "cell_type": "markdown",
   "id": "86b04baa",
   "metadata": {},
   "source": [
    "> In principle we don't need any of the optional packages to run the training code. We've included the `interactive` dependencies so that we can visualize data as part of the exploration. The `gcp` dependencies are for getting the data from BigQuery and **submitting** the training code to Vertex AI."
   ]
  },
  {
   "cell_type": "markdown",
   "id": "c7240c9d-d99f-4c75-8cda-f256becf4dd9",
   "metadata": {},
   "source": [
    "Now we've installed all dependencies, we need to restart the kernel to be able to use those. **Please wait until the kernel is restarted** before you continue with the next steps; after the next cell is executed you'll be prompted with a dialog indicating that the _Kernel is restarting_."
   ]
  },
  {
   "cell_type": "code",
   "execution_count": 2,
   "id": "c81ab3d8-c581-4954-8f9f-fb8d1ca4f78d",
   "metadata": {
    "tags": []
   },
   "outputs": [
    {
     "data": {
      "text/plain": [
       "{'status': 'ok', 'restart': True}"
      ]
     },
     "execution_count": 2,
     "metadata": {},
     "output_type": "execute_result"
    }
   ],
   "source": [
    "import IPython\n",
    "\n",
    "app = IPython.Application.instance()\n",
    "app.kernel.do_shutdown(True)"
   ]
  },
  {
   "cell_type": "markdown",
   "id": "b1d0e018-46f8-45a5-8c7f-d128348e91e3",
   "metadata": {},
   "source": [
    "We also would like to be able to use our module files without reinstalling it after every change, so let's add our package root to the `sys.path`."
   ]
  },
  {
   "cell_type": "code",
   "execution_count": 1,
   "id": "26d761f4-1f33-4627-91ab-b75323160599",
   "metadata": {
    "tags": []
   },
   "outputs": [],
   "source": [
    "import os\n",
    "import sys\n",
    "\n",
    "sys.path.insert(0, os.path.abspath('../src'))"
   ]
  },
  {
   "cell_type": "markdown",
   "id": "97b84ec6-c023-4ce9-be4c-a424185e14a7",
   "metadata": {},
   "source": [
    "One final step before we get started, we'd like our modules to be automatically reloaded after every change. This way if we make any changes to our scripts things will be available immediately."
   ]
  },
  {
   "cell_type": "code",
   "execution_count": 2,
   "id": "655b2e28-0c3c-40f1-949b-d45d913d8c5b",
   "metadata": {
    "tags": []
   },
   "outputs": [],
   "source": [
    "%load_ext autoreload\n",
    "%autoreload 2"
   ]
  },
  {
   "cell_type": "markdown",
   "id": "45789210-4bb7-4863-83d8-227015886bcf",
   "metadata": {},
   "source": [
    "## Using Vertex AI for ad-hoc training\n",
    "\n",
    "Now we're ready to start with our first introduction to Vertex AI. The objective of this notebook is to illustrate how to use the capabilities of Vertex AI to train a custom model with no code changes.\n",
    "\n",
    "We've already prepared some simple code to train a simple _Random Forest Classifier_ using the popular _scikit-learn_ library. Please go ahead and check the source code to see that it's a very simple model and has no dependencies on Vertex AI at all. It returns an `accuracy` score when training is complete and stores the model file as well as some metrics in the provided output directory."
   ]
  },
  {
   "cell_type": "code",
   "execution_count": 3,
   "id": "59472333-14ef-4510-ab27-12885c983000",
   "metadata": {
    "tags": []
   },
   "outputs": [
    {
     "data": {
      "text/plain": [
       "0.772"
      ]
     },
     "execution_count": 3,
     "metadata": {},
     "output_type": "execute_result"
    }
   ],
   "source": [
    "from trainer import task\n",
    "\n",
    "task.train(training_data_dir=\"../data\", validation_data_dir=None, output_dir=\"../outputs\")"
   ]
  },
  {
   "cell_type": "markdown",
   "id": "15614039-9430-468e-851e-33b14c42d848",
   "metadata": {},
   "source": [
    "Well, running this locally is fine, but we're using local data and we're bound to the local hardware. Although we're running this on Vertex AI Workbench, where you also have access to more diverse hardware, we'll try to run our training script on Vertex AI where you have access to bigger, badder :) machines with many CPUs, large RAMs and even custom hardware such as GPUs and TPUs. For the sake of this experiment we'll stick to a simple machine, but you get the gist :)\n",
    "\n",
    "We've got a few more steps before we can submit our job.\n",
    "\n",
    "### Prereqs..."
   ]
  },
  {
   "cell_type": "code",
   "execution_count": 4,
   "id": "c900a2a7-7ee6-4d05-b301-94f52cc29513",
   "metadata": {
    "tags": []
   },
   "outputs": [
    {
     "name": "stdout",
     "output_type": "stream",
     "text": [
      "Project ID: bg-test-run-mlops-2025-06-06\n"
     ]
    }
   ],
   "source": [
    "PROJECT_ID = \"[your-project-id]\"\n",
    "if PROJECT_ID == \"\" or PROJECT_ID is None or PROJECT_ID == \"[your-project-id]\":\n",
    "    # Get your GCP project id from gcloud\n",
    "    shell_output = ! gcloud config list project --format 'value(core.project)' 2>/dev/null\n",
    "    PROJECT_ID = shell_output[0]\n",
    "    print(\"Project ID:\", PROJECT_ID)"
   ]
  },
  {
   "cell_type": "markdown",
   "id": "2153bed2",
   "metadata": {},
   "source": [
    "For many services on GCP you need to define the region (location) where things should be executed. The `us-central1` (Iowa, US) is the default for most services, you can change it to another region, but then you need to make sure that you're consistent in your choice in other places as well."
   ]
  },
  {
   "cell_type": "code",
   "execution_count": 5,
   "id": "4b69e541-a2b3-4fad-9991-c808efe70de7",
   "metadata": {
    "tags": []
   },
   "outputs": [
    {
     "name": "stdout",
     "output_type": "stream",
     "text": [
      "Region: us-central1\n"
     ]
    }
   ],
   "source": [
    "REGION = \"[your-region]\"\n",
    "\n",
    "if REGION == \"[your-region]\":\n",
    "    REGION = \"us-central1\"\n",
    "    print(\"Region:\", REGION) "
   ]
  },
  {
   "cell_type": "markdown",
   "id": "139e28b6",
   "metadata": {},
   "source": [
    "We'll use the project id as the bucket name to make sure that we don't get any collisions."
   ]
  },
  {
   "cell_type": "code",
   "execution_count": 6,
   "id": "beccc6a5-b498-44cf-a302-781bc3e1532b",
   "metadata": {
    "tags": []
   },
   "outputs": [],
   "source": [
    "BUCKET_URI = f\"gs://{PROJECT_ID}\""
   ]
  },
  {
   "cell_type": "markdown",
   "id": "4419df1c",
   "metadata": {},
   "source": [
    "The command below checks if the bucket already exists, if not creates a new one."
   ]
  },
  {
   "cell_type": "code",
   "execution_count": 7,
   "id": "0a2ab623-b7bf-44d8-8f4e-4885eb93e791",
   "metadata": {
    "tags": []
   },
   "outputs": [
    {
     "name": "stdout",
     "output_type": "stream",
     "text": [
      "Creating gs://bg-test-run-mlops-2025-06-06/...\n"
     ]
    }
   ],
   "source": [
    "!gsutil ls -b $BUCKET_URI &> /dev/null || gsutil mb -l $REGION $BUCKET_URI"
   ]
  },
  {
   "cell_type": "markdown",
   "id": "19c6f344-d07a-4a91-9c58-225ee99845e9",
   "metadata": {},
   "source": [
    "### No data, no training\n",
    "\n",
    "Well, we'll also need some training data for our model. The sample code is based on the New York City Taxi fare data, also available in the BigQuery public dataset. We already have a sample our repository for testing purposes (`data/sample.csv`), but for the sake of completeness, we'll get a more fresh and larger snapshot for the Vertex AI training job.\n",
    "\n",
    "As our goal is to predict whether a taxi trip will yield a tip that's more than %20 of the fare, we'll do some pre-processing in BQ. The following snippet will load a sample of this data into a pandas DataFrame."
   ]
  },
  {
   "cell_type": "code",
   "execution_count": 8,
   "id": "c4ef18a7-62da-47f7-8ec0-2366c4999644",
   "metadata": {
    "tags": []
   },
   "outputs": [],
   "source": [
    "from google.cloud.bigquery import Client, QueryJobConfig\n",
    "client = Client()\n",
    "\n",
    "query = \"\"\"SELECT\n",
    "        EXTRACT(MONTH from pickup_datetime) as trip_month,\n",
    "        EXTRACT(DAY from pickup_datetime) as trip_day,\n",
    "        EXTRACT(DAYOFWEEK from pickup_datetime) as trip_day_of_week,\n",
    "        EXTRACT(HOUR from pickup_datetime) as trip_hour,\n",
    "        TIMESTAMP_DIFF(dropoff_datetime, pickup_datetime, SECOND) as trip_duration,\n",
    "        trip_distance,\n",
    "        payment_type,\n",
    "        pickup_location_id as pickup_zone,\n",
    "        pickup_location_id as dropoff_zone,\n",
    "        IF((SAFE_DIVIDE(tip_amount, fare_amount) >= 0.2), 1, 0) AS tip_bin\n",
    "    FROM\n",
    "        `bigquery-public-data.new_york_taxi_trips.tlc_yellow_trips_2021` TABLESAMPLE SYSTEM (1 PERCENT)\n",
    "    LIMIT 10000\"\"\"\n",
    "job = client.query(query)\n",
    "df = job.to_dataframe()"
   ]
  },
  {
   "cell_type": "markdown",
   "id": "ed84c36c-1f2b-4c27-b8e1-7ace05da4af0",
   "metadata": {},
   "source": [
    "Let's have a quick look at the data distribution, typically the exploration would be more comprehensive, but for the sake of this example we'll stick to something basic, looking at the trip duration (in seconds)."
   ]
  },
  {
   "cell_type": "code",
   "execution_count": 9,
   "id": "96dcb883-83ca-4140-ad80-b8d434e06dd5",
   "metadata": {
    "tags": []
   },
   "outputs": [
    {
     "data": {
      "image/png": "[encoded data removed]",
      "text/plain": [
       "<Figure size 640x480 with 1 Axes>"
      ]
     },
     "metadata": {},
     "output_type": "display_data"
    }
   ],
   "source": [
    "import seaborn as sns\n",
    "import matplotlib.pyplot as plt\n",
    "\n",
    "sns.histplot(df.trip_duration);"
   ]
  },
  {
   "cell_type": "markdown",
   "id": "037de1f1-65cb-4bfe-bab4-4952e20ee8e9",
   "metadata": {},
   "source": [
    "Hmm, there seems to be some outliers (trips of >10 hours), and 0 seconds, let's filter those out. The snippet below will keep only the trips that are between 5 minutes and 3 hours."
   ]
  },
  {
   "cell_type": "code",
   "execution_count": 10,
   "id": "84573011-2e1d-4ced-a720-e1f15d5509d1",
   "metadata": {
    "tags": []
   },
   "outputs": [],
   "source": [
    "df = df[df.trip_duration.between(300, 10800)]"
   ]
  },
  {
   "cell_type": "code",
   "execution_count": 11,
   "id": "32aa5608-5bf5-4b41-ac21-da8707887874",
   "metadata": {
    "tags": []
   },
   "outputs": [
    {
     "data": {
      "image/png": "[encoded data removed]",
      "text/plain": [
       "<Figure size 640x480 with 1 Axes>"
      ]
     },
     "metadata": {},
     "output_type": "display_data"
    }
   ],
   "source": [
    "sns.histplot(df.trip_duration);"
   ]
  },
  {
   "cell_type": "markdown",
   "id": "a6152440-0f72-4c87-99b1-ec1f8bf8fdd0",
   "metadata": {},
   "source": [
    "Now we can put that sample data into GCS so that we can start running our training code (we're now directly writing to the GCS bucket from the pandas data frame)."
   ]
  },
  {
   "cell_type": "code",
   "execution_count": 12,
   "id": "56c19d67-40e7-4afe-8221-d2d748ac925f",
   "metadata": {
    "tags": []
   },
   "outputs": [],
   "source": [
    "df.to_csv(f\"{BUCKET_URI}/data/sample/sample.csv\", header=True, index=False)"
   ]
  },
  {
   "cell_type": "markdown",
   "id": "7a522117-76f1-4c58-992a-f283a98a7347",
   "metadata": {},
   "source": [
    "After putting the sample data into GCS, now it's time for the codebase. In order to run our codebase we first need to bundle it in the right format and put it on GCS."
   ]
  },
  {
   "cell_type": "code",
   "execution_count": 13,
   "id": "08e8a4c9-2390-430b-a231-9b8447f17f19",
   "metadata": {
    "tags": []
   },
   "outputs": [
    {
     "name": "stdout",
     "output_type": "stream",
     "text": [
      "\u001b[1m* Creating virtualenv isolated environment...\u001b[0m\n",
      "\u001b[1m* Installing packages in isolated environment... (setuptools>=61, wheel)\u001b[0m\n",
      "\u001b[1m* Getting build dependencies for sdist...\u001b[0m\n",
      "/var/tmp/build-env-galx9vd0/lib/python3.10/site-packages/setuptools/config/_apply_pyprojecttoml.py:82: SetuptoolsDeprecationWarning: `project.license` as a TOML table is deprecated\n",
      "!!\n",
      "\n",
      "        ********************************************************************************\n",
      "        Please use a simple string containing a SPDX expression for `project.license`. You can also use `project.license-files`. (Both options available on setuptools>=77.0.0).\n",
      "\n",
      "        By 2026-Feb-18, you need to update your project and remove deprecated calls\n",
      "        or your builds will no longer be supported.\n",
      "\n",
      "        See https://packaging.python.org/en/latest/guides/writing-pyproject-toml/#license for details.\n",
      "        ********************************************************************************\n",
      "\n",
      "!!\n",
      "  corresp(dist, value, root_dir)\n",
      "running egg_info\n",
      "writing src/gcp_mlops_demo.egg-info/PKG-INFO\n",
      "writing dependency_links to src/gcp_mlops_demo.egg-info/dependency_links.txt\n",
      "writing requirements to src/gcp_mlops_demo.egg-info/requires.txt\n",
      "writing top-level names to src/gcp_mlops_demo.egg-info/top_level.txt\n",
      "reading manifest file 'src/gcp_mlops_demo.egg-info/SOURCES.txt'\n",
      "adding license file 'LICENSE'\n",
      "writing manifest file 'src/gcp_mlops_demo.egg-info/SOURCES.txt'\n",
      "\u001b[1m* Building sdist...\u001b[0m\n",
      "/var/tmp/build-env-galx9vd0/lib/python3.10/site-packages/setuptools/config/_apply_pyprojecttoml.py:82: SetuptoolsDeprecationWarning: `project.license` as a TOML table is deprecated\n",
      "!!\n",
      "\n",
      "        ********************************************************************************\n",
      "        Please use a simple string containing a SPDX expression for `project.license`. You can also use `project.license-files`. (Both options available on setuptools>=77.0.0).\n",
      "\n",
      "        By 2026-Feb-18, you need to update your project and remove deprecated calls\n",
      "        or your builds will no longer be supported.\n",
      "\n",
      "        See https://packaging.python.org/en/latest/guides/writing-pyproject-toml/#license for details.\n",
      "        ********************************************************************************\n",
      "\n",
      "!!\n",
      "  corresp(dist, value, root_dir)\n",
      "running sdist\n",
      "running egg_info\n",
      "writing src/gcp_mlops_demo.egg-info/PKG-INFO\n",
      "writing dependency_links to src/gcp_mlops_demo.egg-info/dependency_links.txt\n",
      "writing requirements to src/gcp_mlops_demo.egg-info/requires.txt\n",
      "writing top-level names to src/gcp_mlops_demo.egg-info/top_level.txt\n",
      "reading manifest file 'src/gcp_mlops_demo.egg-info/SOURCES.txt'\n",
      "adding license file 'LICENSE'\n",
      "writing manifest file 'src/gcp_mlops_demo.egg-info/SOURCES.txt'\n",
      "running check\n",
      "creating gcp_mlops_demo-0.8.0.dev0\n",
      "creating gcp_mlops_demo-0.8.0.dev0/src/gcp_mlops_demo.egg-info\n",
      "creating gcp_mlops_demo-0.8.0.dev0/src/trainer\n",
      "copying files to gcp_mlops_demo-0.8.0.dev0...\n",
      "copying LICENSE -> gcp_mlops_demo-0.8.0.dev0\n",
      "copying README.md -> gcp_mlops_demo-0.8.0.dev0\n",
      "copying pyproject.toml -> gcp_mlops_demo-0.8.0.dev0\n",
      "copying src/gcp_mlops_demo.egg-info/PKG-INFO -> gcp_mlops_demo-0.8.0.dev0/src/gcp_mlops_demo.egg-info\n",
      "copying src/gcp_mlops_demo.egg-info/SOURCES.txt -> gcp_mlops_demo-0.8.0.dev0/src/gcp_mlops_demo.egg-info\n",
      "copying src/gcp_mlops_demo.egg-info/dependency_links.txt -> gcp_mlops_demo-0.8.0.dev0/src/gcp_mlops_demo.egg-info\n",
      "copying src/gcp_mlops_demo.egg-info/requires.txt -> gcp_mlops_demo-0.8.0.dev0/src/gcp_mlops_demo.egg-info\n",
      "copying src/gcp_mlops_demo.egg-info/top_level.txt -> gcp_mlops_demo-0.8.0.dev0/src/gcp_mlops_demo.egg-info\n",
      "copying src/trainer/__init__.py -> gcp_mlops_demo-0.8.0.dev0/src/trainer\n",
      "copying src/trainer/batch.py -> gcp_mlops_demo-0.8.0.dev0/src/trainer\n",
      "copying src/trainer/pipeline.py -> gcp_mlops_demo-0.8.0.dev0/src/trainer\n",
      "copying src/trainer/task.py -> gcp_mlops_demo-0.8.0.dev0/src/trainer\n",
      "copying src/gcp_mlops_demo.egg-info/SOURCES.txt -> gcp_mlops_demo-0.8.0.dev0/src/gcp_mlops_demo.egg-info\n",
      "Writing gcp_mlops_demo-0.8.0.dev0/setup.cfg\n",
      "Creating tar archive\n",
      "removing 'gcp_mlops_demo-0.8.0.dev0' (and everything under it)\n",
      "\u001b[1m\u001b[92mSuccessfully built \u001b[4mgcp_mlops_demo-0.8.0.dev0.tar.gz\u001b[0m\u001b[1m\u001b[92m\u001b[0m\n"
     ]
    }
   ],
   "source": [
    "# let's run this from the root of this repository\n",
    "!{sys.executable} -m build --sdist .."
   ]
  },
  {
   "cell_type": "markdown",
   "id": "0dec2fab",
   "metadata": {},
   "source": [
    "Let's copy the generated package on GCS"
   ]
  },
  {
   "cell_type": "code",
   "execution_count": 14,
   "id": "2d0032d1-a765-4614-8d15-ce4afa15af2a",
   "metadata": {
    "tags": []
   },
   "outputs": [
    {
     "name": "stdout",
     "output_type": "stream",
     "text": [
      "Copying file://../dist/gcp_mlops_demo-0.8.0.dev0.tar.gz [Content-Type=application/x-tar]...\n",
      "/ [1/1 files][  9.7 KiB/  9.7 KiB] 100% Done                                    \n",
      "Operation completed over 1 objects/9.7 KiB.                                      \n"
     ]
    }
   ],
   "source": [
    "!gsutil -m cp ../dist/*.tar.gz $BUCKET_URI/code/"
   ]
  },
  {
   "cell_type": "markdown",
   "id": "cddc0e38-86b9-489e-be26-56c5cf1fcf7a",
   "metadata": {},
   "source": [
    "### Hooray, time for Vertex AI \n",
    "\n",
    "It's finally time to submit our job to Vertex AI. Since our model is a simple _scikit-learn_ model, we can use one of the pre-built containers."
   ]
  },
  {
   "cell_type": "code",
   "execution_count": 15,
   "id": "c0cec56f-96d9-4959-8df2-11db6e7b342e",
   "metadata": {
    "tags": []
   },
   "outputs": [
    {
     "name": "stdout",
     "output_type": "stream",
     "text": [
      "Latest package: gcp_mlops_demo-0.8.0.dev0.tar.gz\n"
     ]
    }
   ],
   "source": [
    "pkg_name = !ls -1t ../dist | head -n1\n",
    "print(f\"Latest package: {pkg_name[0]}\")"
   ]
  },
  {
   "cell_type": "markdown",
   "id": "e77dfd09",
   "metadata": {},
   "source": [
    "We'll need to define the job first:"
   ]
  },
  {
   "cell_type": "code",
   "execution_count": 16,
   "id": "a3a7aedd-5952-4840-8f73-110b09b21f09",
   "metadata": {
    "tags": []
   },
   "outputs": [],
   "source": [
    "from google.cloud import aiplatform\n",
    "\n",
    "aiplatform.init(project=PROJECT_ID, location=REGION, staging_bucket=f\"{BUCKET_URI}/staging\")\n",
    "\n",
    "job = aiplatform.CustomPythonPackageTrainingJob(\n",
    "    display_name=\"my-first-training\",\n",
    "    python_package_gcs_uri=f\"{BUCKET_URI}/code/{pkg_name[0]}\",\n",
    "    python_module_name=\"trainer.task\",\n",
    "    container_uri=\"us-docker.pkg.dev/vertex-ai/training/sklearn-cpu.1-0:latest\")\n"
   ]
  },
  {
   "cell_type": "markdown",
   "id": "a1a4562b",
   "metadata": {},
   "source": [
    "And then run it. This is a very simple model that's trained with a small dataset, so the job will take only a couple of minutes to complete."
   ]
  },
  {
   "cell_type": "code",
   "execution_count": null,
   "id": "5cf6b207-b453-4567-8de5-0cd3eb679797",
   "metadata": {
    "tags": []
   },
   "outputs": [
    {
     "name": "stdout",
     "output_type": "stream",
     "text": [
      "Training Output directory:\n",
      "gs://bg-test-run-mlops-2025-06-06/staging/aiplatform-custom-training-2025-06-07-01:04:24.585 \n",
      "View Training:\n",
      "https://console.cloud.google.com/ai/platform/locations/us-central1/training/4900975653773377536?project=184552075700\n",
      "CustomPythonPackageTrainingJob projects/184552075700/locations/us-central1/trainingPipelines/4900975653773377536 current state:\n",
      "PipelineState.PIPELINE_STATE_PENDING\n",
      "CustomPythonPackageTrainingJob projects/184552075700/locations/us-central1/trainingPipelines/4900975653773377536 current state:\n",
      "PipelineState.PIPELINE_STATE_PENDING\n",
      "CustomPythonPackageTrainingJob projects/184552075700/locations/us-central1/trainingPipelines/4900975653773377536 current state:\n",
      "PipelineState.PIPELINE_STATE_PENDING\n"
     ]
    }
   ],
   "source": [
    "job.run(\n",
    "    replica_count=1,\n",
    "    machine_type=\"n1-standard-4\",\n",
    "    args=[\n",
    "        \"--training-data-dir\", f\"{BUCKET_URI}/data/sample\",\n",
    "        \"--output-dir\", f\"{BUCKET_URI}/outputs\"\n",
    "    ]\n",
    ")\n",
    "    "
   ]
  },
  {
   "cell_type": "markdown",
   "id": "b314d42d-1f4b-4f4f-9968-7a15015c1df2",
   "metadata": {},
   "source": [
    "### Next steps\n",
    "\n",
    "It's fine that we can run a job manually and can use special hardware, but ideally we'd automate some of this for continuous training. So, next challenges are going to be around automation."
   ]
  }
 ],
 "metadata": {
  "environment": {
   "kernel": "conda-base-py",
   "name": "workbench-notebooks.m129",
   "type": "gcloud",
   "uri": "us-docker.pkg.dev/deeplearning-platform-release/gcr.io/workbench-notebooks:m129"
  },
  "kernelspec": {
   "display_name": "Python 3 (ipykernel) (Local)",
   "language": "python",
   "name": "conda-base-py"
  },
  "language_info": {
   "codemirror_mode": {
    "name": "ipython",
    "version": 3
   },
   "file_extension": ".py",
   "mimetype": "text/x-python",
   "name": "python",
   "nbconvert_exporter": "python",
   "pygments_lexer": "ipython3",
   "version": "3.10.16"
  },
  "vscode": {
   "interpreter": {
    "hash": "30040b708182827dd7270e3ff4373b1695e963a7e47229f570fd853418e89e0e"
   }
  }
 },
 "nbformat": 4,
 "nbformat_minor": 5
}
